{
 "cells": [
  {
   "cell_type": "code",
   "execution_count": 2,
   "id": "8db2407a",
   "metadata": {},
   "outputs": [],
   "source": [
    "import numpy as np\n",
    "import pandas as pd\n",
    "import matplotlib.pyplot as plt\n",
    "import warnings\n",
    "plt.style.use('fivethirtyeight')#le damos estilo a los warnings\n",
    "warnings.filterwarnings('ignore')"
   ]
  },
  {
   "cell_type": "code",
   "execution_count": 9,
   "id": "6c2a4f3d",
   "metadata": {},
   "outputs": [
    {
     "data": {
      "text/html": [
       "<div>\n",
       "<style scoped>\n",
       "    .dataframe tbody tr th:only-of-type {\n",
       "        vertical-align: middle;\n",
       "    }\n",
       "\n",
       "    .dataframe tbody tr th {\n",
       "        vertical-align: top;\n",
       "    }\n",
       "\n",
       "    .dataframe thead th {\n",
       "        text-align: right;\n",
       "    }\n",
       "</style>\n",
       "<table border=\"1\" class=\"dataframe\">\n",
       "  <thead>\n",
       "    <tr style=\"text-align: right;\">\n",
       "      <th></th>\n",
       "      <th>Date</th>\n",
       "      <th>Open</th>\n",
       "      <th>High</th>\n",
       "      <th>Low</th>\n",
       "      <th>Close</th>\n",
       "      <th>Adj Close</th>\n",
       "      <th>Volume</th>\n",
       "    </tr>\n",
       "  </thead>\n",
       "  <tbody>\n",
       "    <tr>\n",
       "      <th>0</th>\n",
       "      <td>2020-09-17</td>\n",
       "      <td>109.720001</td>\n",
       "      <td>112.199997</td>\n",
       "      <td>108.709999</td>\n",
       "      <td>110.339996</td>\n",
       "      <td>109.023926</td>\n",
       "      <td>178011000</td>\n",
       "    </tr>\n",
       "    <tr>\n",
       "      <th>1</th>\n",
       "      <td>2020-09-18</td>\n",
       "      <td>110.400002</td>\n",
       "      <td>110.879997</td>\n",
       "      <td>106.089996</td>\n",
       "      <td>106.839996</td>\n",
       "      <td>105.565659</td>\n",
       "      <td>287104900</td>\n",
       "    </tr>\n",
       "    <tr>\n",
       "      <th>2</th>\n",
       "      <td>2020-09-21</td>\n",
       "      <td>104.540001</td>\n",
       "      <td>110.190002</td>\n",
       "      <td>103.099998</td>\n",
       "      <td>110.080002</td>\n",
       "      <td>108.767021</td>\n",
       "      <td>195713800</td>\n",
       "    </tr>\n",
       "    <tr>\n",
       "      <th>3</th>\n",
       "      <td>2020-09-22</td>\n",
       "      <td>112.680000</td>\n",
       "      <td>112.860001</td>\n",
       "      <td>109.160004</td>\n",
       "      <td>111.809998</td>\n",
       "      <td>110.476395</td>\n",
       "      <td>183055400</td>\n",
       "    </tr>\n",
       "    <tr>\n",
       "      <th>4</th>\n",
       "      <td>2020-09-23</td>\n",
       "      <td>111.620003</td>\n",
       "      <td>112.110001</td>\n",
       "      <td>106.769997</td>\n",
       "      <td>107.120003</td>\n",
       "      <td>105.842339</td>\n",
       "      <td>150718700</td>\n",
       "    </tr>\n",
       "    <tr>\n",
       "      <th>...</th>\n",
       "      <td>...</td>\n",
       "      <td>...</td>\n",
       "      <td>...</td>\n",
       "      <td>...</td>\n",
       "      <td>...</td>\n",
       "      <td>...</td>\n",
       "      <td>...</td>\n",
       "    </tr>\n",
       "    <tr>\n",
       "      <th>247</th>\n",
       "      <td>2021-09-10</td>\n",
       "      <td>155.000000</td>\n",
       "      <td>155.479996</td>\n",
       "      <td>148.699997</td>\n",
       "      <td>148.970001</td>\n",
       "      <td>148.139908</td>\n",
       "      <td>140893200</td>\n",
       "    </tr>\n",
       "    <tr>\n",
       "      <th>248</th>\n",
       "      <td>2021-09-13</td>\n",
       "      <td>150.630005</td>\n",
       "      <td>151.419998</td>\n",
       "      <td>148.750000</td>\n",
       "      <td>149.550003</td>\n",
       "      <td>148.716675</td>\n",
       "      <td>102404300</td>\n",
       "    </tr>\n",
       "    <tr>\n",
       "      <th>249</th>\n",
       "      <td>2021-09-14</td>\n",
       "      <td>150.350006</td>\n",
       "      <td>151.070007</td>\n",
       "      <td>146.910004</td>\n",
       "      <td>148.119995</td>\n",
       "      <td>147.294617</td>\n",
       "      <td>109296300</td>\n",
       "    </tr>\n",
       "    <tr>\n",
       "      <th>250</th>\n",
       "      <td>2021-09-15</td>\n",
       "      <td>148.559998</td>\n",
       "      <td>149.440002</td>\n",
       "      <td>146.369995</td>\n",
       "      <td>149.029999</td>\n",
       "      <td>148.199554</td>\n",
       "      <td>83281300</td>\n",
       "    </tr>\n",
       "    <tr>\n",
       "      <th>251</th>\n",
       "      <td>2021-09-16</td>\n",
       "      <td>148.440002</td>\n",
       "      <td>148.970001</td>\n",
       "      <td>147.220001</td>\n",
       "      <td>148.789993</td>\n",
       "      <td>147.960892</td>\n",
       "      <td>68034100</td>\n",
       "    </tr>\n",
       "  </tbody>\n",
       "</table>\n",
       "<p>252 rows × 7 columns</p>\n",
       "</div>"
      ],
      "text/plain": [
       "           Date        Open        High         Low       Close   Adj Close  \\\n",
       "0    2020-09-17  109.720001  112.199997  108.709999  110.339996  109.023926   \n",
       "1    2020-09-18  110.400002  110.879997  106.089996  106.839996  105.565659   \n",
       "2    2020-09-21  104.540001  110.190002  103.099998  110.080002  108.767021   \n",
       "3    2020-09-22  112.680000  112.860001  109.160004  111.809998  110.476395   \n",
       "4    2020-09-23  111.620003  112.110001  106.769997  107.120003  105.842339   \n",
       "..          ...         ...         ...         ...         ...         ...   \n",
       "247  2021-09-10  155.000000  155.479996  148.699997  148.970001  148.139908   \n",
       "248  2021-09-13  150.630005  151.419998  148.750000  149.550003  148.716675   \n",
       "249  2021-09-14  150.350006  151.070007  146.910004  148.119995  147.294617   \n",
       "250  2021-09-15  148.559998  149.440002  146.369995  149.029999  148.199554   \n",
       "251  2021-09-16  148.440002  148.970001  147.220001  148.789993  147.960892   \n",
       "\n",
       "        Volume  \n",
       "0    178011000  \n",
       "1    287104900  \n",
       "2    195713800  \n",
       "3    183055400  \n",
       "4    150718700  \n",
       "..         ...  \n",
       "247  140893200  \n",
       "248  102404300  \n",
       "249  109296300  \n",
       "250   83281300  \n",
       "251   68034100  \n",
       "\n",
       "[252 rows x 7 columns]"
      ]
     },
     "execution_count": 9,
     "metadata": {},
     "output_type": "execute_result"
    }
   ],
   "source": [
    "#leemos el CSV de AAPL\n",
    "df = pd.read_csv('AAPL.csv')\n",
    "df"
   ]
  },
  {
   "cell_type": "code",
   "execution_count": 10,
   "id": "038d275d",
   "metadata": {},
   "outputs": [
    {
     "data": {
      "text/html": [
       "<div>\n",
       "<style scoped>\n",
       "    .dataframe tbody tr th:only-of-type {\n",
       "        vertical-align: middle;\n",
       "    }\n",
       "\n",
       "    .dataframe tbody tr th {\n",
       "        vertical-align: top;\n",
       "    }\n",
       "\n",
       "    .dataframe thead th {\n",
       "        text-align: right;\n",
       "    }\n",
       "</style>\n",
       "<table border=\"1\" class=\"dataframe\">\n",
       "  <thead>\n",
       "    <tr style=\"text-align: right;\">\n",
       "      <th></th>\n",
       "      <th>Open</th>\n",
       "      <th>High</th>\n",
       "      <th>Low</th>\n",
       "      <th>Close</th>\n",
       "      <th>Adj Close</th>\n",
       "      <th>Volume</th>\n",
       "    </tr>\n",
       "    <tr>\n",
       "      <th>Date</th>\n",
       "      <th></th>\n",
       "      <th></th>\n",
       "      <th></th>\n",
       "      <th></th>\n",
       "      <th></th>\n",
       "      <th></th>\n",
       "    </tr>\n",
       "  </thead>\n",
       "  <tbody>\n",
       "    <tr>\n",
       "      <th>2020-09-17</th>\n",
       "      <td>109.720001</td>\n",
       "      <td>112.199997</td>\n",
       "      <td>108.709999</td>\n",
       "      <td>110.339996</td>\n",
       "      <td>109.023926</td>\n",
       "      <td>178011000</td>\n",
       "    </tr>\n",
       "    <tr>\n",
       "      <th>2020-09-18</th>\n",
       "      <td>110.400002</td>\n",
       "      <td>110.879997</td>\n",
       "      <td>106.089996</td>\n",
       "      <td>106.839996</td>\n",
       "      <td>105.565659</td>\n",
       "      <td>287104900</td>\n",
       "    </tr>\n",
       "    <tr>\n",
       "      <th>2020-09-21</th>\n",
       "      <td>104.540001</td>\n",
       "      <td>110.190002</td>\n",
       "      <td>103.099998</td>\n",
       "      <td>110.080002</td>\n",
       "      <td>108.767021</td>\n",
       "      <td>195713800</td>\n",
       "    </tr>\n",
       "    <tr>\n",
       "      <th>2020-09-22</th>\n",
       "      <td>112.680000</td>\n",
       "      <td>112.860001</td>\n",
       "      <td>109.160004</td>\n",
       "      <td>111.809998</td>\n",
       "      <td>110.476395</td>\n",
       "      <td>183055400</td>\n",
       "    </tr>\n",
       "    <tr>\n",
       "      <th>2020-09-23</th>\n",
       "      <td>111.620003</td>\n",
       "      <td>112.110001</td>\n",
       "      <td>106.769997</td>\n",
       "      <td>107.120003</td>\n",
       "      <td>105.842339</td>\n",
       "      <td>150718700</td>\n",
       "    </tr>\n",
       "    <tr>\n",
       "      <th>...</th>\n",
       "      <td>...</td>\n",
       "      <td>...</td>\n",
       "      <td>...</td>\n",
       "      <td>...</td>\n",
       "      <td>...</td>\n",
       "      <td>...</td>\n",
       "    </tr>\n",
       "    <tr>\n",
       "      <th>2021-09-10</th>\n",
       "      <td>155.000000</td>\n",
       "      <td>155.479996</td>\n",
       "      <td>148.699997</td>\n",
       "      <td>148.970001</td>\n",
       "      <td>148.139908</td>\n",
       "      <td>140893200</td>\n",
       "    </tr>\n",
       "    <tr>\n",
       "      <th>2021-09-13</th>\n",
       "      <td>150.630005</td>\n",
       "      <td>151.419998</td>\n",
       "      <td>148.750000</td>\n",
       "      <td>149.550003</td>\n",
       "      <td>148.716675</td>\n",
       "      <td>102404300</td>\n",
       "    </tr>\n",
       "    <tr>\n",
       "      <th>2021-09-14</th>\n",
       "      <td>150.350006</td>\n",
       "      <td>151.070007</td>\n",
       "      <td>146.910004</td>\n",
       "      <td>148.119995</td>\n",
       "      <td>147.294617</td>\n",
       "      <td>109296300</td>\n",
       "    </tr>\n",
       "    <tr>\n",
       "      <th>2021-09-15</th>\n",
       "      <td>148.559998</td>\n",
       "      <td>149.440002</td>\n",
       "      <td>146.369995</td>\n",
       "      <td>149.029999</td>\n",
       "      <td>148.199554</td>\n",
       "      <td>83281300</td>\n",
       "    </tr>\n",
       "    <tr>\n",
       "      <th>2021-09-16</th>\n",
       "      <td>148.440002</td>\n",
       "      <td>148.970001</td>\n",
       "      <td>147.220001</td>\n",
       "      <td>148.789993</td>\n",
       "      <td>147.960892</td>\n",
       "      <td>68034100</td>\n",
       "    </tr>\n",
       "  </tbody>\n",
       "</table>\n",
       "<p>252 rows × 6 columns</p>\n",
       "</div>"
      ],
      "text/plain": [
       "                  Open        High         Low       Close   Adj Close  \\\n",
       "Date                                                                     \n",
       "2020-09-17  109.720001  112.199997  108.709999  110.339996  109.023926   \n",
       "2020-09-18  110.400002  110.879997  106.089996  106.839996  105.565659   \n",
       "2020-09-21  104.540001  110.190002  103.099998  110.080002  108.767021   \n",
       "2020-09-22  112.680000  112.860001  109.160004  111.809998  110.476395   \n",
       "2020-09-23  111.620003  112.110001  106.769997  107.120003  105.842339   \n",
       "...                ...         ...         ...         ...         ...   \n",
       "2021-09-10  155.000000  155.479996  148.699997  148.970001  148.139908   \n",
       "2021-09-13  150.630005  151.419998  148.750000  149.550003  148.716675   \n",
       "2021-09-14  150.350006  151.070007  146.910004  148.119995  147.294617   \n",
       "2021-09-15  148.559998  149.440002  146.369995  149.029999  148.199554   \n",
       "2021-09-16  148.440002  148.970001  147.220001  148.789993  147.960892   \n",
       "\n",
       "               Volume  \n",
       "Date                   \n",
       "2020-09-17  178011000  \n",
       "2020-09-18  287104900  \n",
       "2020-09-21  195713800  \n",
       "2020-09-22  183055400  \n",
       "2020-09-23  150718700  \n",
       "...               ...  \n",
       "2021-09-10  140893200  \n",
       "2021-09-13  102404300  \n",
       "2021-09-14  109296300  \n",
       "2021-09-15   83281300  \n",
       "2021-09-16   68034100  \n",
       "\n",
       "[252 rows x 6 columns]"
      ]
     },
     "execution_count": 10,
     "metadata": {},
     "output_type": "execute_result"
    }
   ],
   "source": [
    "#Set the date column as the index\n",
    "#Establecer la columna de fecha como índice\n",
    "df.index = pd.to_datetime(df['Date'])\n",
    "#Drop the date column\n",
    "#Suelta/eliminamos la columna de fecha\n",
    "df = df.drop(['Date'], axis= 'columns')\n",
    "#Show the data\n",
    "#Mostrar los datos\n",
    "df"
   ]
  },
  {
   "cell_type": "code",
   "execution_count": 11,
   "id": "383fa119",
   "metadata": {},
   "outputs": [],
   "source": [
    "#Create the independent variables\n",
    "#Crear las variables independientes\n",
    "df['High-Low'] = df['High'] - df['Low']\n",
    "df['Open-Close'] = df['Open'] - df['Close']"
   ]
  },
  {
   "cell_type": "code",
   "execution_count": 12,
   "id": "fa90c4aa",
   "metadata": {},
   "outputs": [
    {
     "data": {
      "text/html": [
       "<div>\n",
       "<style scoped>\n",
       "    .dataframe tbody tr th:only-of-type {\n",
       "        vertical-align: middle;\n",
       "    }\n",
       "\n",
       "    .dataframe tbody tr th {\n",
       "        vertical-align: top;\n",
       "    }\n",
       "\n",
       "    .dataframe thead th {\n",
       "        text-align: right;\n",
       "    }\n",
       "</style>\n",
       "<table border=\"1\" class=\"dataframe\">\n",
       "  <thead>\n",
       "    <tr style=\"text-align: right;\">\n",
       "      <th></th>\n",
       "      <th>Open-Close</th>\n",
       "      <th>High-Low</th>\n",
       "      <th>Close</th>\n",
       "    </tr>\n",
       "    <tr>\n",
       "      <th>Date</th>\n",
       "      <th></th>\n",
       "      <th></th>\n",
       "      <th></th>\n",
       "    </tr>\n",
       "  </thead>\n",
       "  <tbody>\n",
       "    <tr>\n",
       "      <th>2020-09-17</th>\n",
       "      <td>-0.619995</td>\n",
       "      <td>3.489998</td>\n",
       "      <td>110.339996</td>\n",
       "    </tr>\n",
       "    <tr>\n",
       "      <th>2020-09-18</th>\n",
       "      <td>3.560006</td>\n",
       "      <td>4.790001</td>\n",
       "      <td>106.839996</td>\n",
       "    </tr>\n",
       "    <tr>\n",
       "      <th>2020-09-21</th>\n",
       "      <td>-5.540001</td>\n",
       "      <td>7.090004</td>\n",
       "      <td>110.080002</td>\n",
       "    </tr>\n",
       "    <tr>\n",
       "      <th>2020-09-22</th>\n",
       "      <td>0.870002</td>\n",
       "      <td>3.699997</td>\n",
       "      <td>111.809998</td>\n",
       "    </tr>\n",
       "    <tr>\n",
       "      <th>2020-09-23</th>\n",
       "      <td>4.500000</td>\n",
       "      <td>5.340004</td>\n",
       "      <td>107.120003</td>\n",
       "    </tr>\n",
       "  </tbody>\n",
       "</table>\n",
       "</div>"
      ],
      "text/plain": [
       "            Open-Close  High-Low       Close\n",
       "Date                                        \n",
       "2020-09-17   -0.619995  3.489998  110.339996\n",
       "2020-09-18    3.560006  4.790001  106.839996\n",
       "2020-09-21   -5.540001  7.090004  110.080002\n",
       "2020-09-22    0.870002  3.699997  111.809998\n",
       "2020-09-23    4.500000  5.340004  107.120003"
      ]
     },
     "execution_count": 12,
     "metadata": {},
     "output_type": "execute_result"
    }
   ],
   "source": [
    "#Store the independent variables in a variable called 'X'\n",
    "#Almacenar las variables independientes en una variable llamada 'X'\n",
    "X = df[['Open-Close', 'High-Low', 'Close']]\n",
    "#Show the first 5 rows of data\n",
    "#Mostrar las primeras 5 filas de datos\n",
    "X.head()"
   ]
  },
  {
   "cell_type": "code",
   "execution_count": 13,
   "id": "e1bb4c60",
   "metadata": {},
   "outputs": [
    {
     "data": {
      "text/plain": [
       "array([0, 1, 1, 0, 1, 1, 1, 0, 1, 1, 0, 1, 0, 1, 0, 1, 1, 0, 1, 0, 0, 0,\n",
       "       1, 0, 0, 0, 1, 1, 0, 1, 0, 0, 1, 1, 1, 0, 0, 0, 1, 0, 1, 1, 0, 0,\n",
       "       1, 0, 0, 1, 1, 1, 1, 1, 1, 0, 0, 1, 1, 0, 1, 0, 0, 1, 0, 1, 0, 1,\n",
       "       1, 0, 1, 1, 0, 0, 0, 0, 1, 0, 1, 1, 0, 0, 1, 0, 0, 1, 1, 1, 1, 1,\n",
       "       1, 0, 0, 0, 1, 1, 0, 1, 0, 1, 0, 0, 0, 1, 0, 0, 0, 1, 0, 0, 0, 0,\n",
       "       1, 1, 0, 0, 0, 1, 0, 1, 0, 1, 0, 1, 1, 0, 0, 0, 1, 0, 0, 1, 1, 1,\n",
       "       0, 1, 1, 1, 1, 1, 1, 1, 0, 1, 0, 1, 0, 1, 0, 1, 0, 1, 1, 0, 0, 0,\n",
       "       0, 1, 0, 1, 1, 1, 0, 0, 0, 1, 1, 0, 0, 0, 1, 0, 1, 0, 0, 0, 0, 0,\n",
       "       1, 0, 1, 1, 1, 1, 0, 1, 1, 0, 1, 1, 0, 1, 1, 0, 0, 0, 1, 1, 1, 1,\n",
       "       1, 1, 1, 0, 1, 0, 1, 1, 0, 0, 0, 1, 0, 1, 1, 1, 0, 0, 1, 1, 0, 1,\n",
       "       0, 1, 0, 0, 0, 1, 1, 1, 1, 0, 0, 1, 1, 1, 0, 0, 0, 1, 1, 0, 1, 1,\n",
       "       1, 1, 0, 0, 0, 1, 0, 1, 0, 0])"
      ]
     },
     "execution_count": 13,
     "metadata": {},
     "output_type": "execute_result"
    }
   ],
   "source": [
    "#Store the target variable into a variable called 'y'\n",
    "#If tomorrows close price is greater than todays close price\n",
    "#then put 1 else put 0\n",
    "#Almacenar la variable objetivo en una variable llamada 'y'\n",
    "#Si el precio de cierre de mañana es mayor que el precio de cierre de hoy\n",
    "#luego pon 1 sino pon 0\n",
    "#verifico el precio de cierre de mañana\n",
    "# es mayor que el prcio de cierre de hoy\n",
    "y = np.where(df.Close.shift(-1) > df.Close, 1, 0)\n",
    "y"
   ]
  },
  {
   "cell_type": "code",
   "execution_count": 14,
   "id": "1c2fe876",
   "metadata": {},
   "outputs": [],
   "source": [
    "#Get the percentage to split the data(90% train data set, and 10% test data set)\n",
    "#Obtener el porcentaje para dividir los datos\n",
    "#(90 % del conjunto de datos de entrenamiento y 10 % del conjunto de datos de prueba)\n",
    "percentage_split = 0.9\n",
    "row = int(df.shape[0] * percentage_split)\n",
    "#Create the train data set\n",
    "#Crear el conjunto de datos del entrenamiento\n",
    "X_train = X[:row]\n",
    "y_train = y[:row]\n",
    "#Create the test data set\n",
    "#Crear el conjunto de datos de prueba\n",
    "X_test = X[row:]\n",
    "y_test = y[row:]"
   ]
  },
  {
   "cell_type": "code",
   "execution_count": 18,
   "id": "75ec113e",
   "metadata": {},
   "outputs": [
    {
     "data": {
      "text/html": [
       "<style>#sk-container-id-1 {color: black;background-color: white;}#sk-container-id-1 pre{padding: 0;}#sk-container-id-1 div.sk-toggleable {background-color: white;}#sk-container-id-1 label.sk-toggleable__label {cursor: pointer;display: block;width: 100%;margin-bottom: 0;padding: 0.3em;box-sizing: border-box;text-align: center;}#sk-container-id-1 label.sk-toggleable__label-arrow:before {content: \"▸\";float: left;margin-right: 0.25em;color: #696969;}#sk-container-id-1 label.sk-toggleable__label-arrow:hover:before {color: black;}#sk-container-id-1 div.sk-estimator:hover label.sk-toggleable__label-arrow:before {color: black;}#sk-container-id-1 div.sk-toggleable__content {max-height: 0;max-width: 0;overflow: hidden;text-align: left;background-color: #f0f8ff;}#sk-container-id-1 div.sk-toggleable__content pre {margin: 0.2em;color: black;border-radius: 0.25em;background-color: #f0f8ff;}#sk-container-id-1 input.sk-toggleable__control:checked~div.sk-toggleable__content {max-height: 200px;max-width: 100%;overflow: auto;}#sk-container-id-1 input.sk-toggleable__control:checked~label.sk-toggleable__label-arrow:before {content: \"▾\";}#sk-container-id-1 div.sk-estimator input.sk-toggleable__control:checked~label.sk-toggleable__label {background-color: #d4ebff;}#sk-container-id-1 div.sk-label input.sk-toggleable__control:checked~label.sk-toggleable__label {background-color: #d4ebff;}#sk-container-id-1 input.sk-hidden--visually {border: 0;clip: rect(1px 1px 1px 1px);clip: rect(1px, 1px, 1px, 1px);height: 1px;margin: -1px;overflow: hidden;padding: 0;position: absolute;width: 1px;}#sk-container-id-1 div.sk-estimator {font-family: monospace;background-color: #f0f8ff;border: 1px dotted black;border-radius: 0.25em;box-sizing: border-box;margin-bottom: 0.5em;}#sk-container-id-1 div.sk-estimator:hover {background-color: #d4ebff;}#sk-container-id-1 div.sk-parallel-item::after {content: \"\";width: 100%;border-bottom: 1px solid gray;flex-grow: 1;}#sk-container-id-1 div.sk-label:hover label.sk-toggleable__label {background-color: #d4ebff;}#sk-container-id-1 div.sk-serial::before {content: \"\";position: absolute;border-left: 1px solid gray;box-sizing: border-box;top: 0;bottom: 0;left: 50%;z-index: 0;}#sk-container-id-1 div.sk-serial {display: flex;flex-direction: column;align-items: center;background-color: white;padding-right: 0.2em;padding-left: 0.2em;position: relative;}#sk-container-id-1 div.sk-item {position: relative;z-index: 1;}#sk-container-id-1 div.sk-parallel {display: flex;align-items: stretch;justify-content: center;background-color: white;position: relative;}#sk-container-id-1 div.sk-item::before, #sk-container-id-1 div.sk-parallel-item::before {content: \"\";position: absolute;border-left: 1px solid gray;box-sizing: border-box;top: 0;bottom: 0;left: 50%;z-index: -1;}#sk-container-id-1 div.sk-parallel-item {display: flex;flex-direction: column;z-index: 1;position: relative;background-color: white;}#sk-container-id-1 div.sk-parallel-item:first-child::after {align-self: flex-end;width: 50%;}#sk-container-id-1 div.sk-parallel-item:last-child::after {align-self: flex-start;width: 50%;}#sk-container-id-1 div.sk-parallel-item:only-child::after {width: 0;}#sk-container-id-1 div.sk-dashed-wrapped {border: 1px dashed gray;margin: 0 0.4em 0.5em 0.4em;box-sizing: border-box;padding-bottom: 0.4em;background-color: white;}#sk-container-id-1 div.sk-label label {font-family: monospace;font-weight: bold;display: inline-block;line-height: 1.2em;}#sk-container-id-1 div.sk-label-container {text-align: center;}#sk-container-id-1 div.sk-container {/* jupyter's `normalize.less` sets `[hidden] { display: none; }` but bootstrap.min.css set `[hidden] { display: none !important; }` so we also need the `!important` here to be able to override the default hidden behavior on the sphinx rendered scikit-learn.org. See: https://github.com/scikit-learn/scikit-learn/issues/21755 */display: inline-block !important;position: relative;}#sk-container-id-1 div.sk-text-repr-fallback {display: none;}</style><div id=\"sk-container-id-1\" class=\"sk-top-container\"><div class=\"sk-text-repr-fallback\"><pre>SVC()</pre><b>In a Jupyter environment, please rerun this cell to show the HTML representation or trust the notebook. <br />On GitHub, the HTML representation is unable to render, please try loading this page with nbviewer.org.</b></div><div class=\"sk-container\" hidden><div class=\"sk-item\"><div class=\"sk-estimator sk-toggleable\"><input class=\"sk-toggleable__control sk-hidden--visually\" id=\"sk-estimator-id-1\" type=\"checkbox\" checked><label for=\"sk-estimator-id-1\" class=\"sk-toggleable__label sk-toggleable__label-arrow\">SVC</label><div class=\"sk-toggleable__content\"><pre>SVC()</pre></div></div></div></div></div>"
      ],
      "text/plain": [
       "SVC()"
      ]
     },
     "execution_count": 18,
     "metadata": {},
     "output_type": "execute_result"
    }
   ],
   "source": [
    "#import the library for the machine learning model called Support Vector Classifier(SVC)\n",
    "#importar la biblioteca para el modelo de aprendizaje automático llamado Support Vector Classifier (SVC)\n",
    "from sklearn.svm import SVC\n",
    "#create the model\n",
    "#crear el modelo\n",
    "model = SVC()\n",
    "#Train the model\n",
    "#Entrenar al modelo\n",
    "model.fit(X_train[['Open-Close', 'High-Low']], y_train)"
   ]
  },
  {
   "cell_type": "code",
   "execution_count": 19,
   "id": "ba5c56fe",
   "metadata": {},
   "outputs": [
    {
     "data": {
      "text/plain": [
       "0.5442477876106194"
      ]
     },
     "execution_count": 19,
     "metadata": {},
     "output_type": "execute_result"
    }
   ],
   "source": [
    "#Check the score of the model on the train data set\n",
    "#Comprobar la puntuación del modelo en el conjunto de datos del entrenamiento\n",
    "model.score(X_train[['Open-Close', 'High-Low']], y_train)"
   ]
  },
  {
   "cell_type": "code",
   "execution_count": 20,
   "id": "58173a6a",
   "metadata": {},
   "outputs": [
    {
     "data": {
      "text/plain": [
       "0.6153846153846154"
      ]
     },
     "execution_count": 20,
     "metadata": {},
     "output_type": "execute_result"
    }
   ],
   "source": [
    "#Check the score of the model on the test data set\n",
    "#Comprobar la puntuación del modelo en el conjunto de datos de prueba\n",
    "model.score(X_test[['Open-Close', 'High-Low']], y_test)"
   ]
  },
  {
   "cell_type": "code",
   "execution_count": 21,
   "id": "fee0ac2f",
   "metadata": {},
   "outputs": [
    {
     "data": {
      "text/plain": [
       "Date\n",
       "2020-09-17    0\n",
       "2020-09-18    1\n",
       "2020-09-21    1\n",
       "2020-09-22    1\n",
       "2020-09-23    1\n",
       "             ..\n",
       "2021-09-10    1\n",
       "2021-09-13    1\n",
       "2021-09-14    1\n",
       "2021-09-15    0\n",
       "2021-09-16    1\n",
       "Name: Predictions, Length: 252, dtype: int32"
      ]
     },
     "execution_count": 21,
     "metadata": {},
     "output_type": "execute_result"
    }
   ],
   "source": [
    "#Make and show the models predictions\n",
    "#Haz y muestra las predicciones de los modelos\n",
    "df['Predictions'] = model.predict(X[['Open-Close', 'High-Low']])\n",
    "#Show the predictions\n",
    "#Mostrar las predicciones\n",
    "df['Predictions']"
   ]
  },
  {
   "cell_type": "code",
   "execution_count": 24,
   "id": "abc7c226",
   "metadata": {},
   "outputs": [
    {
     "data": {
      "text/plain": [
       "Date\n",
       "2020-09-17         NaN\n",
       "2020-09-18   -0.031720\n",
       "2020-09-21    0.030326\n",
       "2020-09-22    0.015716\n",
       "2020-09-23   -0.041946\n",
       "                ...   \n",
       "2021-09-10   -0.033102\n",
       "2021-09-13    0.003893\n",
       "2021-09-14   -0.009562\n",
       "2021-09-15    0.006144\n",
       "2021-09-16   -0.001610\n",
       "Name: Return, Length: 252, dtype: float64"
      ]
     },
     "execution_count": 24,
     "metadata": {},
     "output_type": "execute_result"
    }
   ],
   "source": [
    "#Calculate the daily returns\n",
    "#Calcula los retornos diarios\n",
    "df['Return'] = df['Close'].pct_change(1)\n",
    "#Show the Returns\n",
    "#Mostrar las Devoluciones\n",
    "df['Return']"
   ]
  },
  {
   "cell_type": "code",
   "execution_count": 25,
   "id": "2f3cc9c9",
   "metadata": {},
   "outputs": [
    {
     "data": {
      "text/plain": [
       "Date\n",
       "2020-09-17         NaN\n",
       "2020-09-18   -0.000000\n",
       "2020-09-21    0.030326\n",
       "2020-09-22    0.015716\n",
       "2020-09-23   -0.041946\n",
       "                ...   \n",
       "2021-09-10   -0.033102\n",
       "2021-09-13    0.003893\n",
       "2021-09-14   -0.009562\n",
       "2021-09-15    0.006144\n",
       "2021-09-16   -0.000000\n",
       "Name: Strat_Return, Length: 252, dtype: float64"
      ]
     },
     "execution_count": 25,
     "metadata": {},
     "output_type": "execute_result"
    }
   ],
   "source": [
    "#Calculate the strategy returns\n",
    "#Calcula los retornos de la estrategia\n",
    "df['Strat_Return'] = df['Predictions'].shift(1) * df['Return']\n",
    "#Show the Strategy_Return\n",
    "#Mostrar la estrategia_Retorno\n",
    "df['Strat_Return']"
   ]
  },
  {
   "cell_type": "code",
   "execution_count": 26,
   "id": "dc63e02d",
   "metadata": {},
   "outputs": [],
   "source": [
    "#Calculate the cumulative returns\n",
    "#Calcular los rendimientos acumulados\n",
    "#cumsum() La función se usa cuando queremos calcular la suma acumulativa \n",
    "#de elementos de la matriz sobre un eje dado\n",
    "df['Cumul_Ret'] = df['Return'].cumsum()\n",
    "#Calculation of the strategy cumulative returns\n",
    "#Cálculo de los retornos acumulados de la estrategia\n",
    "df['Cumul_Strategy'] = df['Strat_Return'].cumsum()"
   ]
  },
  {
   "cell_type": "code",
   "execution_count": 28,
   "id": "77124d5b",
   "metadata": {},
   "outputs": [
    {
     "data": {
      "image/png": "[encoded data removed]",
      "text/plain": [
       "<Figure size 1152x576 with 1 Axes>"
      ]
     },
     "metadata": {},
     "output_type": "display_data"
    }
   ],
   "source": [
    "#Visualize and show the data\n",
    "#Visualizar y mostrar los datos\n",
    "plt.figure(figsize=(16,8))\n",
    "plt.title('Returns')\n",
    "plt.plot(df['Cumul_Ret'], color='orange', label='Stock Returns')\n",
    "plt.plot(df['Cumul_Strategy'], color='purple', label='Strategy Returns')\n",
    "plt.xticks(rotation = 45)#Esto es para que gire el eje x\n",
    "#para mostrar las leyenda \n",
    "#Una leyenda es un área que describe los elementos del gráfico\n",
    "plt.legend()#Stock Returns y Strategy Returns\n",
    "plt.show()#Aqui muestra la grafica"
   ]
  },
  {
   "cell_type": "code",
   "execution_count": 29,
   "id": "94551a34",
   "metadata": {},
   "outputs": [
    {
     "name": "stdout",
     "output_type": "stream",
     "text": [
      "The stock gives a return of 34.00927027721845 %\n",
      "The strategy gives a return of 37.84850843508395 %\n"
     ]
    }
   ],
   "source": [
    "#Print the returns\n",
    "#Imprimir las declaraciones\n",
    "#Los resultados nos mostrara que la estrategia funciono mejor\n",
    "print('The stock gives a return of', df['Cumul_Ret'][-1]*100, '%')\n",
    "print('The strategy gives a return of', df['Cumul_Strategy'][-1]*100, '%')"
   ]
  }
 ],
 "metadata": {
  "kernelspec": {
   "display_name": "Python 3",
   "language": "python",
   "name": "python3"
  },
  "language_info": {
   "codemirror_mode": {
    "name": "ipython",
    "version": 3
   },
   "file_extension": ".py",
   "mimetype": "text/x-python",
   "name": "python",
   "nbconvert_exporter": "python",
   "pygments_lexer": "ipython3",
   "version": "3.8.8"
  }
 },
 "nbformat": 4,
 "nbformat_minor": 5
}
